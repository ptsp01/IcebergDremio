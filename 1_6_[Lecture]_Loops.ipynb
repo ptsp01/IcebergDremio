{
  "nbformat": 4,
  "nbformat_minor": 0,
  "metadata": {
    "colab": {
      "provenance": [],
      "toc_visible": true,
      "include_colab_link": true
    },
    "kernelspec": {
      "name": "python3",
      "display_name": "Python 3"
    }
  },
  "cells": [
    {
      "cell_type": "markdown",
      "metadata": {
        "id": "view-in-github",
        "colab_type": "text"
      },
      "source": [
        "<a href=\"https://colab.research.google.com/github/ptsp01/IcebergDremio/blob/main/1_6_%5BLecture%5D_Loops.ipynb\" target=\"_parent\"><img src=\"https://colab.research.google.com/assets/colab-badge.svg\" alt=\"Open In Colab\"/></a>"
      ]
    },
    {
      "cell_type": "markdown",
      "metadata": {
        "id": "S8D8YdwURKTA"
      },
      "source": [
        "# **PYTHON LOOPS**\n",
        "\n",
        "Before you start: File ▸ Save a Copy in Drive"
      ]
    },
    {
      "cell_type": "markdown",
      "source": [
        "Let's consider a situation when you want to print \"Hello, World!\" **five times**. Here is a simple program to do so."
      ],
      "metadata": {
        "id": "GGtklTScr-Gr"
      }
    },
    {
      "cell_type": "code",
      "source": [
        "print(\"Hello World!\")\n",
        "print(\"Hello World!\")\n",
        "print(\"Hello World!\")\n",
        "print(\"Hello World!\")\n",
        "print(\"Hello World!\")"
      ],
      "metadata": {
        "id": "z0izIO7ZsPdN"
      },
      "execution_count": null,
      "outputs": []
    },
    {
      "cell_type": "markdown",
      "source": [
        "It was simple, but again, let's consider another situation when you want to write Hello, World! **five thousand times**. We can certainly not write `print()` statements a thousand times. Almost all the programming languages provide a concept called loop, which helps in executing one or more statements up to a desired number of times.\n",
        "\n",
        "**Writing loops helps reduce repetitiveness in your code, following the DRY (Don't Repeat Yourself) principle. You don't write the same block of code more than once.**\n",
        "\n",
        "In this lesson, we will learn 2 ways to create a loop in Python."
      ],
      "metadata": {
        "id": "6ir9QniAskyT"
      }
    },
    {
      "cell_type": "markdown",
      "metadata": {
        "id": "RSMfPj1q6l7s"
      },
      "source": [
        "## 1. WHILE LOOP"
      ]
    },
    {
      "cell_type": "markdown",
      "metadata": {
        "id": "_SzwsqijGhLV"
      },
      "source": [
        "![](https://files.realpython.com/media/Python-while-Loops-Indefinite-Iteration_Watermarked.ef0b89ed9dae.jpg)"
      ]
    },
    {
      "cell_type": "markdown",
      "metadata": {
        "id": "F3E8Bkqibsgy"
      },
      "source": [
        "📖 **While-loop is a loop based on a** ***condition***\n",
        "\n",
        "![](https://imgur.com/Nlkrpin.jpg)\n"
      ]
    },
    {
      "cell_type": "markdown",
      "source": [
        "How to print \"Hello World!\" five times"
      ],
      "metadata": {
        "id": "eIJOLkmHzvFU"
      }
    },
    {
      "cell_type": "code",
      "source": [
        "a = 0\n",
        "while a < 5:\n",
        "    print(\"Hello World!\")  # Notice the indentation\n",
        "    a += 1\n",
        "\n",
        "print(\"Finish\")"
      ],
      "metadata": {
        "colab": {
          "base_uri": "https://localhost:8080/"
        },
        "id": "0Hk-V4UXzjKG",
        "outputId": "d3024cd8-a8da-4d1e-eb3f-aaba29527c3d"
      },
      "execution_count": null,
      "outputs": [
        {
          "output_type": "stream",
          "name": "stdout",
          "text": [
            "Hello World!\n",
            "Hello World!\n",
            "Hello World!\n",
            "Hello World!\n",
            "Hello World!\n",
            "Finish\n"
          ]
        }
      ]
    },
    {
      "cell_type": "markdown",
      "source": [
        "Print all odd numbers smaller than 10"
      ],
      "metadata": {
        "id": "VCq75nfdz5D1"
      }
    },
    {
      "cell_type": "code",
      "metadata": {
        "id": "SrBYfLla7Ycm",
        "colab": {
          "base_uri": "https://localhost:8080/"
        },
        "outputId": "be7291fb-79d2-4537-8f6c-b7af548874b6"
      },
      "source": [
        "a = 1\n",
        "while a < 10:\n",
        "    print(a)\n",
        "    a += 2"
      ],
      "execution_count": null,
      "outputs": [
        {
          "output_type": "stream",
          "name": "stdout",
          "text": [
            "1\n",
            "3\n",
            "5\n",
            "7\n",
            "9\n"
          ]
        }
      ]
    },
    {
      "cell_type": "markdown",
      "source": [
        "![](https://img2018.cnblogs.com/blog/1746488/201910/1746488-20191007170334145-1555073306.gif)"
      ],
      "metadata": {
        "id": "l7VnK3w0Yzge"
      }
    },
    {
      "cell_type": "markdown",
      "source": [
        "⚠️ Notice that the code we want to execute inside a loop must be indented (with a tab). Let's take a look at a \"similar\" piece of code, which will **run forever** because the condition is always met."
      ],
      "metadata": {
        "id": "28F1yEJEyUVI"
      }
    },
    {
      "cell_type": "code",
      "metadata": {
        "id": "pbuKg4Oc8ONc"
      },
      "source": [
        "a = 1\n",
        "\n",
        "while a < 10:\n",
        "    print(a)\n",
        "\n",
        "a += 2"
      ],
      "execution_count": null,
      "outputs": []
    },
    {
      "cell_type": "markdown",
      "source": [
        "📖 **Loops can be nested**"
      ],
      "metadata": {
        "id": "I-5Qer7jVStw"
      }
    },
    {
      "cell_type": "code",
      "metadata": {
        "id": "NQjo6coZ94xD",
        "colab": {
          "base_uri": "https://localhost:8080/"
        },
        "outputId": "7186510b-0f82-4758-d28c-d3c854d57f4d"
      },
      "source": [
        "a = 0\n",
        "\n",
        "while a < 3:\n",
        "    print(\"1st loop\")\n",
        "    b = 0\n",
        "    while b < 3:\n",
        "        print(\"    2nd loop\")\n",
        "        b += 1\n",
        "    a += 1"
      ],
      "execution_count": null,
      "outputs": [
        {
          "output_type": "stream",
          "name": "stdout",
          "text": [
            "1st loop\n",
            "    2nd loop\n",
            "    2nd loop\n",
            "    2nd loop\n",
            "1st loop\n",
            "    2nd loop\n",
            "    2nd loop\n",
            "    2nd loop\n",
            "1st loop\n",
            "    2nd loop\n",
            "    2nd loop\n",
            "    2nd loop\n"
          ]
        }
      ]
    },
    {
      "cell_type": "markdown",
      "source": [
        "☘️ We can make a list using a loop"
      ],
      "metadata": {
        "id": "GR-a30CMVWiy"
      }
    },
    {
      "cell_type": "code",
      "metadata": {
        "id": "dQ2iXPQ4_Zbt",
        "colab": {
          "base_uri": "https://localhost:8080/"
        },
        "outputId": "8aaecdc2-3ab2-4bd4-af28-20a1828cd1eb"
      },
      "source": [
        "# Create a list of odd numbers less than 10\n",
        "a = 1\n",
        "b = []\n",
        "\n",
        "while a < 10:\n",
        "    b.append(a)\n",
        "    a += 2\n",
        "\n",
        "print(b)"
      ],
      "execution_count": null,
      "outputs": [
        {
          "output_type": "stream",
          "name": "stdout",
          "text": [
            "[1, 3, 5, 7, 9]\n"
          ]
        }
      ]
    },
    {
      "cell_type": "markdown",
      "metadata": {
        "id": "bptoMKV6bG-s"
      },
      "source": [
        "🏃🏻‍♂️ **Mini exercise**"
      ]
    },
    {
      "cell_type": "markdown",
      "source": [
        "Display and count the even numbers between 1 to 10"
      ],
      "metadata": {
        "id": "HvU2k4ZTd2aZ"
      }
    },
    {
      "cell_type": "code",
      "metadata": {
        "id": "yB_4cIUF9l1g",
        "outputId": "701deed7-d1b7-4515-f622-1041fccf640a",
        "colab": {
          "base_uri": "https://localhost:8080/"
        }
      },
      "source": [
        "# YOUR CODE HERE\n",
        "a = 2\n",
        "b = []\n",
        "while a < 11:\n",
        "  b.append(a)\n",
        "  a += 2\n",
        "print(b, sum(b))\n"
      ],
      "execution_count": null,
      "outputs": [
        {
          "output_type": "stream",
          "name": "stdout",
          "text": [
            "[2, 4, 6, 8, 10] 30\n"
          ]
        }
      ]
    },
    {
      "cell_type": "markdown",
      "metadata": {
        "id": "MUKM51or6tKv"
      },
      "source": [
        "## 2. FOR LOOP"
      ]
    },
    {
      "cell_type": "markdown",
      "metadata": {
        "id": "ld3lXD-qGU8a"
      },
      "source": [
        "![](https://files.realpython.com/media/Python-for-Loops-Definite-Iteration_Watermarked.b38126d495e1.jpg)"
      ]
    },
    {
      "cell_type": "markdown",
      "source": [
        "### **`range()`**\n",
        "\n",
        "range() is a built-in function that returns a sequence of numbers, which is very useful for writing loops.\n",
        "\n",
        "For example, if we want to try an action 3 times:"
      ],
      "metadata": {
        "id": "JAhU6W-V2OyQ"
      }
    },
    {
      "cell_type": "code",
      "source": [
        "# khi một số nào không được nhập:\n",
        "# - ko nhập start: ngầm hiểu là 0\n",
        "# - ko nhập step: ngầm j"
      ],
      "metadata": {
        "id": "m7g9tlUT2Obu"
      },
      "execution_count": null,
      "outputs": []
    },
    {
      "cell_type": "code",
      "metadata": {
        "id": "vXmPTnb3KxTN",
        "colab": {
          "base_uri": "https://localhost:8080/"
        },
        "outputId": "596575f6-32bc-441a-b0c2-d72913b98e95"
      },
      "source": [
        "for i in range(3):\n",
        "    print(\"Attempt\", i)  # Notice the indentation"
      ],
      "execution_count": null,
      "outputs": [
        {
          "output_type": "stream",
          "name": "stdout",
          "text": [
            "Attempt 0\n",
            "Attempt 1\n",
            "Attempt 2\n"
          ]
        }
      ]
    },
    {
      "cell_type": "markdown",
      "source": [
        "Note that by default, range() will start from 0. However, range() is flexible if you want to configure it.\n",
        "\n",
        "`range(<start>, <stop>)`\n"
      ],
      "metadata": {
        "id": "T43ztuQ-28M4"
      }
    },
    {
      "cell_type": "code",
      "metadata": {
        "id": "Po64lvUpMp4B",
        "colab": {
          "base_uri": "https://localhost:8080/"
        },
        "outputId": "ab0e340f-51e1-4b0d-a633-7d7808a31e39"
      },
      "source": [
        "for i in range(1, 4):\n",
        "    print(\"Attempt\", i)"
      ],
      "execution_count": null,
      "outputs": [
        {
          "output_type": "stream",
          "name": "stdout",
          "text": [
            "Attempt 1\n",
            "Attempt 2\n",
            "Attempt 3\n"
          ]
        }
      ]
    },
    {
      "cell_type": "markdown",
      "source": [
        "Lastly, you can pass in a third optional parameter: `step`.\n",
        "\n",
        "`range(<start>, <stop>, <step>)`\n",
        "\n",
        "This controls the increment between the two values in the range. The default value of step is 1.\n",
        "\n",
        "Let's say we want to print all odd numbers less than 10."
      ],
      "metadata": {
        "id": "e-NCB0w1PL-F"
      }
    },
    {
      "cell_type": "code",
      "source": [
        "for i in range(1, 10, 2):\n",
        "    print(i)"
      ],
      "metadata": {
        "id": "2XzW7uhPPCe4",
        "colab": {
          "base_uri": "https://localhost:8080/"
        },
        "outputId": "2b6d110a-e3ba-4b36-d17b-01f179394b65"
      },
      "execution_count": null,
      "outputs": [
        {
          "output_type": "stream",
          "name": "stdout",
          "text": [
            "1\n",
            "3\n",
            "5\n",
            "7\n",
            "9\n"
          ]
        }
      ]
    },
    {
      "cell_type": "markdown",
      "source": [
        "### Iterables"
      ],
      "metadata": {
        "id": "78Kf0TkgH4UR"
      }
    },
    {
      "cell_type": "markdown",
      "source": [
        "`range()`, `list`, `tuple`, `set`, `string` are **iterable** objects because we can iterate over it.\n",
        "\n",
        "For example, using a for loop we can perform the same action on each item in a list.\n",
        "\n"
      ],
      "metadata": {
        "id": "WCHE-KpCIcC3"
      }
    },
    {
      "cell_type": "code",
      "source": [
        "for i in range(3):\n",
        "    print(i)"
      ],
      "metadata": {
        "id": "XR1YgHuHLSX4",
        "colab": {
          "base_uri": "https://localhost:8080/"
        },
        "outputId": "9c3bb577-5e8f-43a7-aafb-4d62080b4bd8"
      },
      "execution_count": null,
      "outputs": [
        {
          "output_type": "stream",
          "name": "stdout",
          "text": [
            "0\n",
            "1\n",
            "2\n"
          ]
        }
      ]
    },
    {
      "cell_type": "code",
      "source": [
        "for i in [2, 4, 6]:\n",
        "    print(i)"
      ],
      "metadata": {
        "id": "1G70LqLlJOd_",
        "colab": {
          "base_uri": "https://localhost:8080/"
        },
        "outputId": "14645ccc-8a4d-4f74-ff39-1adb8747b14b"
      },
      "execution_count": null,
      "outputs": [
        {
          "output_type": "stream",
          "name": "stdout",
          "text": [
            "2\n",
            "4\n",
            "6\n"
          ]
        }
      ]
    },
    {
      "cell_type": "code",
      "source": [
        "for i in \"CoderSchool\":\n",
        "    print(i)"
      ],
      "metadata": {
        "id": "SsMdXybIJaip",
        "colab": {
          "base_uri": "https://localhost:8080/"
        },
        "outputId": "66767664-8fbb-4c17-e90f-47f7f86a2ed2"
      },
      "execution_count": null,
      "outputs": [
        {
          "output_type": "stream",
          "name": "stdout",
          "text": [
            "C\n",
            "o\n",
            "d\n",
            "e\n",
            "r\n",
            "S\n",
            "c\n",
            "h\n",
            "o\n",
            "o\n",
            "l\n"
          ]
        }
      ]
    },
    {
      "cell_type": "markdown",
      "metadata": {
        "id": "G73ELZHfcZoY"
      },
      "source": [
        "☘️ For loop with `range()` can be used to ***access*** each element of the list via **indices**."
      ]
    },
    {
      "cell_type": "markdown",
      "source": [
        "Let's increase each value of the list by 1"
      ],
      "metadata": {
        "id": "dVpvnFjtK5ml"
      }
    },
    {
      "cell_type": "code",
      "metadata": {
        "id": "Qfrq_75_BasH",
        "colab": {
          "base_uri": "https://localhost:8080/"
        },
        "outputId": "05be27f6-290c-4619-dbd1-0571f780209b"
      },
      "source": [
        "my_list = [0, 2, 4, 6, 8]\n",
        "\n",
        "for idx in range(len(my_list)):\n",
        "    my_list[idx] += 1\n",
        "\n",
        "print(my_list)"
      ],
      "execution_count": null,
      "outputs": [
        {
          "output_type": "stream",
          "name": "stdout",
          "text": [
            "[1, 3, 5, 7, 9]\n"
          ]
        }
      ]
    },
    {
      "cell_type": "markdown",
      "metadata": {
        "id": "ejhsrXBcch9p"
      },
      "source": [
        "🏃🏻‍♂️ **Mini exercise**:\n",
        "\n",
        "Add your name after every greeting below\n",
        "\n",
        "Make a for-loop to change the list above into `['Hi <your_name>', 'Hello <your_name>', 'Hey <your_name>',...]`\n"
      ]
    },
    {
      "cell_type": "code",
      "metadata": {
        "id": "EWjgiY6XOXvc"
      },
      "source": [
        "greetings = [\"Hi\", \"Hello\", \"Hey\", \"Greetings\", \"Welcome\", \"Yo\", \"What's up\"]\n",
        "\n",
        "# YOUR CODE HERE"
      ],
      "execution_count": null,
      "outputs": []
    },
    {
      "cell_type": "markdown",
      "metadata": {
        "id": "vFA_gJHedxGQ"
      },
      "source": [
        "🔥 **CHALLENGE**: Add 2 lists of numbers element-by-element"
      ]
    },
    {
      "cell_type": "code",
      "metadata": {
        "id": "dgQ3TcTDPGb4"
      },
      "source": [
        "my_list_1 = [10, 11, 12, 13, 14]\n",
        "my_list_2 = [100, 99, 98, 96, 95]\n",
        "\n",
        "# YOUR CODE HERE"
      ],
      "execution_count": null,
      "outputs": []
    },
    {
      "cell_type": "markdown",
      "source": [
        "## FOR vs. WHILE LOOP"
      ],
      "metadata": {
        "id": "1La6fbUJNd0X"
      }
    },
    {
      "cell_type": "markdown",
      "source": [
        "* for loop: breaks after a **number of iterations**, which is known **in advance**.\n",
        "* while loop: breaks when a **condition** is NOT true anymore.\n",
        "\n"
      ],
      "metadata": {
        "id": "53w0ugEhNhbg"
      }
    },
    {
      "cell_type": "code",
      "source": [
        "# Enter a number. Print square value of that number if less than 50.\n",
        "\n",
        "n = 0\n",
        "\n",
        "while n**2 < 50:  # condition\n",
        "    n = int(input())\n",
        "    print(f\"{n} squared is {n**2}\")\n",
        "\n",
        "print(\"Finish\")"
      ],
      "metadata": {
        "colab": {
          "base_uri": "https://localhost:8080/"
        },
        "id": "LeExKqEzYjLp",
        "outputId": "27ec28e9-2c02-4d81-f779-f36804094b7a"
      },
      "execution_count": null,
      "outputs": [
        {
          "output_type": "stream",
          "name": "stdout",
          "text": [
            "3\n",
            "3 squared is 9\n",
            "5\n",
            "5 squared is 25\n",
            "8\n",
            "8 squared is 64\n",
            "Finish\n"
          ]
        }
      ]
    },
    {
      "cell_type": "code",
      "source": [
        "for i in range(3):  # number of iterations\n",
        "    print(\"Python is fun!\")"
      ],
      "metadata": {
        "id": "ooCq8lGRO-by",
        "colab": {
          "base_uri": "https://localhost:8080/"
        },
        "outputId": "02361e0a-cdf0-41ea-a801-8f0127e35ed2"
      },
      "execution_count": null,
      "outputs": [
        {
          "output_type": "stream",
          "name": "stdout",
          "text": [
            "Python is fun!\n",
            "Python is fun!\n",
            "Python is fun!\n"
          ]
        }
      ]
    },
    {
      "cell_type": "code",
      "source": [
        "i = 0\n",
        "while i < 3:\n",
        "    print(\"Python is fun!\")\n",
        "    i += 1"
      ],
      "metadata": {
        "colab": {
          "base_uri": "https://localhost:8080/"
        },
        "id": "ghhImuoAc4sw",
        "outputId": "971dd6c4-804a-4a26-c0db-fe129721b3d3"
      },
      "execution_count": null,
      "outputs": [
        {
          "output_type": "stream",
          "name": "stdout",
          "text": [
            "Python is fun!\n",
            "Python is fun!\n",
            "Python is fun!\n"
          ]
        }
      ]
    },
    {
      "cell_type": "markdown",
      "metadata": {
        "id": "ywG0Ttc8VUZR"
      },
      "source": [
        "## LOOP CONTROL"
      ]
    },
    {
      "cell_type": "markdown",
      "metadata": {
        "id": "rWc-cr4pGsPb"
      },
      "source": [
        "<img src='https://files.realpython.com/media/t.899f357dd948.png' height=500></img>"
      ]
    },
    {
      "cell_type": "code",
      "metadata": {
        "id": "dMZ4Q9kqWuZX"
      },
      "source": [
        "for i in range(10):\n",
        "    print(\"Round\", i)\n",
        "    if i > 5:\n",
        "        continue\n",
        "    else:\n",
        "        print(\"  Do task A\")\n",
        "\n",
        "    print(\"  Do task B\")"
      ],
      "execution_count": null,
      "outputs": []
    },
    {
      "cell_type": "markdown",
      "metadata": {
        "id": "fle_3M-ZEUZF"
      },
      "source": [
        "## MISC"
      ]
    },
    {
      "cell_type": "markdown",
      "metadata": {
        "id": "cKKXiHdXd4X0"
      },
      "source": [
        "### 🌟 **List Comprehension**\n",
        "\n",
        "List comprehension is an elegant way to create lists based on existing lists."
      ]
    },
    {
      "cell_type": "markdown",
      "metadata": {
        "id": "pRMWxh5WNqW2"
      },
      "source": [
        "📖 Syntax\n",
        "\n",
        "The list comprehension starts with a `[` and `]`, to help you remember that the result is going to be a list.\n",
        "\n",
        "The basic syntax is:\n",
        "```python\n",
        "[ expression for item in list if conditional ]\n",
        "```\n",
        "This is equivalent to:\n",
        "```python\n",
        "for item in list:\n",
        "    if conditional:\n",
        "        expression\n",
        "```"
      ]
    },
    {
      "cell_type": "markdown",
      "source": [
        "Quickly make a list of integers from 0-9"
      ],
      "metadata": {
        "id": "oPc3LF0FKPx_"
      }
    },
    {
      "cell_type": "code",
      "metadata": {
        "id": "LzHEcSKpPzrg",
        "colab": {
          "base_uri": "https://localhost:8080/"
        },
        "outputId": "06ace9a8-1913-4cd2-edea-131bf582ba51"
      },
      "source": [
        "l = [x for x in range(10)]\n",
        "l"
      ],
      "execution_count": null,
      "outputs": [
        {
          "output_type": "execute_result",
          "data": {
            "text/plain": [
              "[0, 1, 2, 3, 4, 5, 6, 7, 8, 9]"
            ]
          },
          "metadata": {},
          "execution_count": 1
        }
      ]
    },
    {
      "cell_type": "code",
      "source": [
        "[x for x in range(10)]"
      ],
      "metadata": {
        "colab": {
          "base_uri": "https://localhost:8080/"
        },
        "id": "HVy3P90Nb8A4",
        "outputId": "4aa7feef-644a-4c21-c822-b8f8caba3881"
      },
      "execution_count": null,
      "outputs": [
        {
          "output_type": "execute_result",
          "data": {
            "text/plain": [
              "[0, 1, 2, 3, 4, 5, 6, 7, 8, 9]"
            ]
          },
          "metadata": {},
          "execution_count": 3
        }
      ]
    },
    {
      "cell_type": "markdown",
      "source": [
        "Create a list of even numbers from 0-9"
      ],
      "metadata": {
        "id": "xcJp2fYFT-AK"
      }
    },
    {
      "cell_type": "code",
      "source": [
        "l = [x for x in range(10) if x % 2 == 0]\n",
        "l"
      ],
      "metadata": {
        "id": "3_wykF87yayX"
      },
      "execution_count": null,
      "outputs": []
    },
    {
      "cell_type": "code",
      "source": [
        "[x for x in range(10) if x % 2 == 0]"
      ],
      "metadata": {
        "colab": {
          "base_uri": "https://localhost:8080/"
        },
        "id": "Cq3RsVrEcPP7",
        "outputId": "f0f49844-88bc-410e-894d-716d9353a3a2"
      },
      "execution_count": null,
      "outputs": [
        {
          "output_type": "execute_result",
          "data": {
            "text/plain": [
              "[0, 2, 4, 6, 8]"
            ]
          },
          "metadata": {},
          "execution_count": 5
        }
      ]
    },
    {
      "cell_type": "markdown",
      "source": [
        "Of course we can replace x with an expression, for example:"
      ],
      "metadata": {
        "id": "JDfkN2J3MRU5"
      }
    },
    {
      "cell_type": "code",
      "source": [
        "squares = [x**2 for x in range(10)]\n",
        "squares"
      ],
      "metadata": {
        "id": "xjaKmj8DMPJO",
        "colab": {
          "base_uri": "https://localhost:8080/"
        },
        "outputId": "2b65ce74-e1d2-4540-8198-c03d2b353200"
      },
      "execution_count": null,
      "outputs": [
        {
          "output_type": "execute_result",
          "data": {
            "text/plain": [
              "[0, 1, 4, 9, 16, 25, 36, 49, 64, 81]"
            ]
          },
          "metadata": {},
          "execution_count": 6
        }
      ]
    },
    {
      "cell_type": "code",
      "source": [
        "squares = [x**2 for x in range(10) if x % 2 == 0]\n",
        "squares"
      ],
      "metadata": {
        "id": "N4urIX5vNvEs",
        "colab": {
          "base_uri": "https://localhost:8080/"
        },
        "outputId": "4000611f-ea1a-46c1-89a0-3e5e201a1e43"
      },
      "execution_count": null,
      "outputs": [
        {
          "output_type": "execute_result",
          "data": {
            "text/plain": [
              "[0, 4, 16, 36, 64]"
            ]
          },
          "metadata": {},
          "execution_count": 7
        }
      ]
    },
    {
      "cell_type": "markdown",
      "metadata": {
        "id": "b7wjaI1-2uTc"
      },
      "source": [
        "### ⚠️ **Do NOT loop through a set**\n",
        "\n",
        "Order of elements in a set is ***very inconsistent***."
      ]
    },
    {
      "cell_type": "code",
      "metadata": {
        "id": "Nomh6GXl2ty6",
        "colab": {
          "base_uri": "https://localhost:8080/"
        },
        "outputId": "45ce1cc1-a09d-4d0a-9e1c-479ab8e3eb65"
      },
      "source": [
        "# Integers\n",
        "my_set = {1, 2, 3, 4, 5, 6, 7, 8, 9}\n",
        "for i in my_set:\n",
        "    print(i)"
      ],
      "execution_count": null,
      "outputs": [
        {
          "output_type": "stream",
          "name": "stdout",
          "text": [
            "1\n",
            "2\n",
            "3\n",
            "4\n",
            "5\n",
            "6\n",
            "7\n",
            "8\n",
            "9\n"
          ]
        }
      ]
    },
    {
      "cell_type": "code",
      "metadata": {
        "id": "LSuHqvto6Zye",
        "colab": {
          "base_uri": "https://localhost:8080/"
        },
        "outputId": "5e1dadc3-c5c6-4e55-f8be-57481e15dab1"
      },
      "source": [
        "# Floats\n",
        "my_set = {0.1, 0.2, 0.3, 0.4, 0.5, 0.6, 0.7, 0.8, 0.9}\n",
        "for i in my_set:\n",
        "    print(i)"
      ],
      "execution_count": null,
      "outputs": [
        {
          "output_type": "stream",
          "name": "stdout",
          "text": [
            "0.1\n",
            "0.4\n",
            "0.3\n",
            "0.2\n",
            "0.5\n",
            "0.6\n",
            "0.7\n",
            "0.8\n",
            "0.9\n"
          ]
        }
      ]
    },
    {
      "cell_type": "code",
      "metadata": {
        "id": "Ewb1wEdy6gOV",
        "colab": {
          "base_uri": "https://localhost:8080/"
        },
        "outputId": "7b2c7b42-9797-4c06-c308-c3d2dd61b4c9"
      },
      "source": [
        "# Strings\n",
        "my_set = set(\"CoderSchool\")  # The order changes every runtime reset.\n",
        "for i in my_set:\n",
        "    print(i)"
      ],
      "execution_count": null,
      "outputs": [
        {
          "output_type": "stream",
          "name": "stdout",
          "text": [
            "l\n",
            "c\n",
            "e\n",
            "d\n",
            "o\n",
            "C\n",
            "S\n",
            "r\n",
            "h\n"
          ]
        }
      ]
    },
    {
      "cell_type": "markdown",
      "source": [
        "**💁 Additional tool:**\n",
        "\n",
        "[pythontutor.com](https://pythontutor.com/) is also a great way to understand how loop works. Give it a try! 😉"
      ],
      "metadata": {
        "id": "qSQqISFlFX_3"
      }
    }
  ]
}